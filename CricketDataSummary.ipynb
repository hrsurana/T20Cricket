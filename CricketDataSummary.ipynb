{
  "nbformat": 4,
  "nbformat_minor": 0,
  "metadata": {
    "colab": {
      "provenance": []
    },
    "kernelspec": {
      "name": "python3",
      "display_name": "Python 3"
    },
    "language_info": {
      "name": "python"
    }
  },
  "cells": [
    {
      "cell_type": "code",
      "execution_count": null,
      "metadata": {
        "colab": {
          "base_uri": "https://localhost:8080/"
        },
        "id": "h1A_hzTLn0qm",
        "outputId": "e5db8a56-fa7e-41e1-d6a4-f7ed144d6cc0"
      },
      "outputs": [
        {
          "output_type": "stream",
          "name": "stdout",
          "text": [
            "Looking in indexes: https://pypi.org/simple, https://us-python.pkg.dev/colab-wheels/public/simple/\n",
            "Requirement already satisfied: beautifulsoup4 in /usr/local/lib/python3.9/dist-packages (4.11.2)\n",
            "Requirement already satisfied: soupsieve>1.2 in /usr/local/lib/python3.9/dist-packages (from beautifulsoup4) (2.4)\n"
          ]
        }
      ],
      "source": [
        "!pip install beautifulsoup4"
      ]
    },
    {
      "cell_type": "code",
      "source": [
        "from bs4 import BeautifulSoup"
      ],
      "metadata": {
        "id": "rBMLLibCoKp0"
      },
      "execution_count": null,
      "outputs": []
    },
    {
      "cell_type": "code",
      "source": [
        "import requests as rq\n",
        "import pandas as pd"
      ],
      "metadata": {
        "id": "_v712U6doZal"
      },
      "execution_count": null,
      "outputs": []
    },
    {
      "cell_type": "code",
      "source": [
        "matchResultsUrl = \"https://stats.espncricinfo.com/ci/engine/records/team/match_results.html?id=14450;type=tournament\"\n",
        "response = rq.get(matchResultsUrl)"
      ],
      "metadata": {
        "id": "cDCN-jBIpCnz"
      },
      "execution_count": null,
      "outputs": []
    },
    {
      "cell_type": "code",
      "source": [
        "soup = BeautifulSoup(response.text, 'html.parser')"
      ],
      "metadata": {
        "id": "aP3EclVbvExM"
      },
      "execution_count": null,
      "outputs": []
    },
    {
      "cell_type": "code",
      "source": [
        "rows = soup.find('table', {'class':'engineTable'}).find('tbody').find_all('tr')"
      ],
      "metadata": {
        "id": "DeeJXj1bvaEA"
      },
      "execution_count": null,
      "outputs": []
    },
    {
      "cell_type": "code",
      "source": [
        "#retrieve general match data including links to individual match details\n",
        "matchData = []\n",
        "matchLinks = []\n",
        "\n",
        "dataHeaders = [\"team1\",\t\"team2\", \"winner\",\"margin\", \"ground\",\t\"matchDate\",\t\"match_id\"]\n",
        "\n",
        "for row in rows:\n",
        "  rowDict = {}\n",
        "  for i in range(0, 7):\n",
        "    rowDict[dataHeaders[i]] = row.find_all('td')[i].text\n",
        "\n",
        "  matchData.append(rowDict)\n",
        "  if(rowDict[\"winner\"]==\"abandoned\" or rowDict[\"winner\"]==\"no result\"):\n",
        "    samURL = \"http://stats.espncricinfo.com\" + row.find_all(\"a\")[3]['href']\n",
        "  else:\n",
        "    samURL = \"http://stats.espncricinfo.com\" + row.find_all(\"a\")[4]['href']\n",
        "  matchLinks.append(samURL)\n",
        "\n",
        "df_matchSummary = pd.DataFrame(matchData)"
      ],
      "metadata": {
        "id": "ZKjX6jtM0R0f"
      },
      "execution_count": null,
      "outputs": []
    },
    {
      "cell_type": "code",
      "source": [
        "#save match links for additional data scraping\n",
        "import csv\n",
        "\n",
        "#save the matchSummary df as csv file\n",
        "df_matchSummary.to_csv('dim_match_summary.csv')\n",
        "\n",
        "with open('matchLinks.csv', 'w') as f:\n",
        "    csv_writer = csv.writer(f)\n",
        "    csv_writer.writerows(rows)\n",
        "\n",
        "#player data scrapped using bright data web scrapping tool"
      ],
      "metadata": {
        "id": "Q8woG9C70Y-6"
      },
      "execution_count": null,
      "outputs": []
    },
    {
      "cell_type": "code",
      "source": [],
      "metadata": {
        "id": "JXtHByfAa4SG"
      },
      "execution_count": null,
      "outputs": []
    }
  ]
}